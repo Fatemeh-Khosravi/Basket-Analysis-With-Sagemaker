{
 "cells": [
  {
   "cell_type": "markdown",
   "metadata": {},
   "source": [
    "\n",
    "## Data Preparation"
   ]
  },
  {
   "cell_type": "code",
   "execution_count": 1,
   "metadata": {},
   "outputs": [],
   "source": [
    "import numpy as np\n",
    "import pandas as pd\n",
    "import matplotlib.pyplot as plt\n",
    "import seaborn as sns\n",
    "import gc\n",
    "pd.options.mode.chained_assignment = None"
   ]
  },
  {
   "cell_type": "markdown",
   "metadata": {},
   "source": [
    "## Reading all data"
   ]
  },
  {
   "cell_type": "code",
   "execution_count": 2,
   "metadata": {},
   "outputs": [],
   "source": [
    "orders = pd.read_csv(\"./data-clarify/orders.csv\")\n",
    "order_products_train = pd.read_csv('./data-clarify/order_products__train.csv')\n",
    "aisles = pd.read_csv('./data-clarify/aisles.csv')\n",
    "products = pd.read_csv('./data-clarify/products.csv')\n",
    "departments = pd.read_csv('./data-clarify/departments.csv')\n",
    "product_features = pd.read_pickle('./data-clarify/product_features.pkl')\n",
    "user_features = pd.read_pickle('./data-clarify/user_features.pkl')"
   ]
  },
  {
   "cell_type": "markdown",
   "metadata": {},
   "source": [
    "## Merging train order data with orders"
   ]
  },
  {
   "cell_type": "code",
   "execution_count": 3,
   "metadata": {},
   "outputs": [
    {
     "data": {
      "text/html": [
       "<div>\n",
       "<style scoped>\n",
       "    .dataframe tbody tr th:only-of-type {\n",
       "        vertical-align: middle;\n",
       "    }\n",
       "\n",
       "    .dataframe tbody tr th {\n",
       "        vertical-align: top;\n",
       "    }\n",
       "\n",
       "    .dataframe thead th {\n",
       "        text-align: right;\n",
       "    }\n",
       "</style>\n",
       "<table border=\"1\" class=\"dataframe\">\n",
       "  <thead>\n",
       "    <tr style=\"text-align: right;\">\n",
       "      <th></th>\n",
       "      <th>order_id</th>\n",
       "      <th>user_id</th>\n",
       "      <th>eval_set</th>\n",
       "      <th>order_number</th>\n",
       "      <th>order_dow</th>\n",
       "      <th>order_hour_of_day</th>\n",
       "      <th>days_since_prior_order</th>\n",
       "      <th>product_id</th>\n",
       "      <th>add_to_cart_order</th>\n",
       "      <th>reordered</th>\n",
       "    </tr>\n",
       "  </thead>\n",
       "  <tbody>\n",
       "    <tr>\n",
       "      <th>0</th>\n",
       "      <td>1187899</td>\n",
       "      <td>1</td>\n",
       "      <td>train</td>\n",
       "      <td>11</td>\n",
       "      <td>4</td>\n",
       "      <td>8</td>\n",
       "      <td>14.0</td>\n",
       "      <td>196</td>\n",
       "      <td>1</td>\n",
       "      <td>1</td>\n",
       "    </tr>\n",
       "    <tr>\n",
       "      <th>1</th>\n",
       "      <td>1187899</td>\n",
       "      <td>1</td>\n",
       "      <td>train</td>\n",
       "      <td>11</td>\n",
       "      <td>4</td>\n",
       "      <td>8</td>\n",
       "      <td>14.0</td>\n",
       "      <td>25133</td>\n",
       "      <td>2</td>\n",
       "      <td>1</td>\n",
       "    </tr>\n",
       "    <tr>\n",
       "      <th>2</th>\n",
       "      <td>1187899</td>\n",
       "      <td>1</td>\n",
       "      <td>train</td>\n",
       "      <td>11</td>\n",
       "      <td>4</td>\n",
       "      <td>8</td>\n",
       "      <td>14.0</td>\n",
       "      <td>38928</td>\n",
       "      <td>3</td>\n",
       "      <td>1</td>\n",
       "    </tr>\n",
       "    <tr>\n",
       "      <th>3</th>\n",
       "      <td>1187899</td>\n",
       "      <td>1</td>\n",
       "      <td>train</td>\n",
       "      <td>11</td>\n",
       "      <td>4</td>\n",
       "      <td>8</td>\n",
       "      <td>14.0</td>\n",
       "      <td>26405</td>\n",
       "      <td>4</td>\n",
       "      <td>1</td>\n",
       "    </tr>\n",
       "    <tr>\n",
       "      <th>4</th>\n",
       "      <td>1187899</td>\n",
       "      <td>1</td>\n",
       "      <td>train</td>\n",
       "      <td>11</td>\n",
       "      <td>4</td>\n",
       "      <td>8</td>\n",
       "      <td>14.0</td>\n",
       "      <td>39657</td>\n",
       "      <td>5</td>\n",
       "      <td>1</td>\n",
       "    </tr>\n",
       "  </tbody>\n",
       "</table>\n",
       "</div>"
      ],
      "text/plain": [
       "   order_id  user_id eval_set  order_number  order_dow  order_hour_of_day  \\\n",
       "0   1187899        1    train            11          4                  8   \n",
       "1   1187899        1    train            11          4                  8   \n",
       "2   1187899        1    train            11          4                  8   \n",
       "3   1187899        1    train            11          4                  8   \n",
       "4   1187899        1    train            11          4                  8   \n",
       "\n",
       "   days_since_prior_order  product_id  add_to_cart_order  reordered  \n",
       "0                    14.0         196                  1          1  \n",
       "1                    14.0       25133                  2          1  \n",
       "2                    14.0       38928                  3          1  \n",
       "3                    14.0       26405                  4          1  \n",
       "4                    14.0       39657                  5          1  "
      ]
     },
     "execution_count": 3,
     "metadata": {},
     "output_type": "execute_result"
    }
   ],
   "source": [
    "train_orders = orders.merge(order_products_train, on = 'order_id', how = 'inner')\n",
    "train_orders.head()"
   ]
  },
  {
   "cell_type": "markdown",
   "metadata": {},
   "source": [
    "removing unnecessary columns from train_orders"
   ]
  },
  {
   "cell_type": "code",
   "execution_count": 4,
   "metadata": {},
   "outputs": [],
   "source": [
    "train_orders.drop(['eval_set', 'add_to_cart_order', 'order_id'], axis = 1, inplace = True)"
   ]
  },
  {
   "cell_type": "code",
   "execution_count": 5,
   "metadata": {},
   "outputs": [
    {
     "data": {
      "text/plain": [
       "(1384617, 7)"
      ]
     },
     "execution_count": 5,
     "metadata": {},
     "output_type": "execute_result"
    }
   ],
   "source": [
    "train_orders.shape"
   ]
  },
  {
   "cell_type": "markdown",
   "metadata": {},
   "source": [
    "## Merging with product_features and user_features"
   ]
  },
  {
   "cell_type": "code",
   "execution_count": 6,
   "metadata": {},
   "outputs": [
    {
     "data": {
      "text/html": [
       "<div>\n",
       "<style scoped>\n",
       "    .dataframe tbody tr th:only-of-type {\n",
       "        vertical-align: middle;\n",
       "    }\n",
       "\n",
       "    .dataframe tbody tr th {\n",
       "        vertical-align: top;\n",
       "    }\n",
       "\n",
       "    .dataframe thead th {\n",
       "        text-align: right;\n",
       "    }\n",
       "</style>\n",
       "<table border=\"1\" class=\"dataframe\">\n",
       "  <thead>\n",
       "    <tr style=\"text-align: right;\">\n",
       "      <th></th>\n",
       "      <th>user_id</th>\n",
       "      <th>order_number</th>\n",
       "      <th>order_dow</th>\n",
       "      <th>order_hour_of_day</th>\n",
       "      <th>days_since_prior_order</th>\n",
       "      <th>product_id</th>\n",
       "      <th>reordered</th>\n",
       "      <th>mean_add_to_cart_order</th>\n",
       "      <th>total_orders</th>\n",
       "      <th>total_reorders</th>\n",
       "      <th>...</th>\n",
       "      <th>department_reorder_percentage</th>\n",
       "      <th>department_unique_users</th>\n",
       "      <th>department</th>\n",
       "      <th>total_orders_by_user</th>\n",
       "      <th>total_products_by_user</th>\n",
       "      <th>total_unique_product_by_user</th>\n",
       "      <th>total_reorders_by_user</th>\n",
       "      <th>reorder_propotion_by_user</th>\n",
       "      <th>average_order_size</th>\n",
       "      <th>reorder_in_order</th>\n",
       "    </tr>\n",
       "  </thead>\n",
       "  <tbody>\n",
       "    <tr>\n",
       "      <th>0</th>\n",
       "      <td>1</td>\n",
       "      <td>11</td>\n",
       "      <td>4</td>\n",
       "      <td>8</td>\n",
       "      <td>14.0</td>\n",
       "      <td>196</td>\n",
       "      <td>1</td>\n",
       "      <td>3.984738</td>\n",
       "      <td>1507</td>\n",
       "      <td>1221</td>\n",
       "      <td>...</td>\n",
       "      <td>0.658155</td>\n",
       "      <td>61482</td>\n",
       "      <td>beverages</td>\n",
       "      <td>1</td>\n",
       "      <td>11</td>\n",
       "      <td>11</td>\n",
       "      <td>10</td>\n",
       "      <td>0.909091</td>\n",
       "      <td>11</td>\n",
       "      <td>0.909091</td>\n",
       "    </tr>\n",
       "    <tr>\n",
       "      <th>1</th>\n",
       "      <td>1</td>\n",
       "      <td>11</td>\n",
       "      <td>4</td>\n",
       "      <td>8</td>\n",
       "      <td>14.0</td>\n",
       "      <td>25133</td>\n",
       "      <td>1</td>\n",
       "      <td>6.580645</td>\n",
       "      <td>186</td>\n",
       "      <td>139</td>\n",
       "      <td>...</td>\n",
       "      <td>0.674966</td>\n",
       "      <td>87400</td>\n",
       "      <td>dairy eggs</td>\n",
       "      <td>1</td>\n",
       "      <td>11</td>\n",
       "      <td>11</td>\n",
       "      <td>10</td>\n",
       "      <td>0.909091</td>\n",
       "      <td>11</td>\n",
       "      <td>0.909091</td>\n",
       "    </tr>\n",
       "    <tr>\n",
       "      <th>2</th>\n",
       "      <td>1</td>\n",
       "      <td>11</td>\n",
       "      <td>4</td>\n",
       "      <td>8</td>\n",
       "      <td>14.0</td>\n",
       "      <td>38928</td>\n",
       "      <td>1</td>\n",
       "      <td>3.707022</td>\n",
       "      <td>413</td>\n",
       "      <td>329</td>\n",
       "      <td>...</td>\n",
       "      <td>0.674966</td>\n",
       "      <td>87400</td>\n",
       "      <td>dairy eggs</td>\n",
       "      <td>1</td>\n",
       "      <td>11</td>\n",
       "      <td>11</td>\n",
       "      <td>10</td>\n",
       "      <td>0.909091</td>\n",
       "      <td>11</td>\n",
       "      <td>0.909091</td>\n",
       "    </tr>\n",
       "    <tr>\n",
       "      <th>3</th>\n",
       "      <td>1</td>\n",
       "      <td>11</td>\n",
       "      <td>4</td>\n",
       "      <td>8</td>\n",
       "      <td>14.0</td>\n",
       "      <td>26405</td>\n",
       "      <td>1</td>\n",
       "      <td>2.761905</td>\n",
       "      <td>105</td>\n",
       "      <td>62</td>\n",
       "      <td>...</td>\n",
       "      <td>0.427166</td>\n",
       "      <td>21647</td>\n",
       "      <td>household</td>\n",
       "      <td>1</td>\n",
       "      <td>11</td>\n",
       "      <td>11</td>\n",
       "      <td>10</td>\n",
       "      <td>0.909091</td>\n",
       "      <td>11</td>\n",
       "      <td>0.909091</td>\n",
       "    </tr>\n",
       "    <tr>\n",
       "      <th>4</th>\n",
       "      <td>1</td>\n",
       "      <td>11</td>\n",
       "      <td>4</td>\n",
       "      <td>8</td>\n",
       "      <td>14.0</td>\n",
       "      <td>39657</td>\n",
       "      <td>1</td>\n",
       "      <td>3.884170</td>\n",
       "      <td>259</td>\n",
       "      <td>208</td>\n",
       "      <td>...</td>\n",
       "      <td>0.581363</td>\n",
       "      <td>57302</td>\n",
       "      <td>snacks</td>\n",
       "      <td>1</td>\n",
       "      <td>11</td>\n",
       "      <td>11</td>\n",
       "      <td>10</td>\n",
       "      <td>0.909091</td>\n",
       "      <td>11</td>\n",
       "      <td>0.909091</td>\n",
       "    </tr>\n",
       "  </tbody>\n",
       "</table>\n",
       "<p>5 rows × 34 columns</p>\n",
       "</div>"
      ],
      "text/plain": [
       "   user_id  order_number  order_dow  order_hour_of_day  \\\n",
       "0        1            11          4                  8   \n",
       "1        1            11          4                  8   \n",
       "2        1            11          4                  8   \n",
       "3        1            11          4                  8   \n",
       "4        1            11          4                  8   \n",
       "\n",
       "   days_since_prior_order  product_id  reordered  mean_add_to_cart_order  \\\n",
       "0                    14.0         196          1                3.984738   \n",
       "1                    14.0       25133          1                6.580645   \n",
       "2                    14.0       38928          1                3.707022   \n",
       "3                    14.0       26405          1                2.761905   \n",
       "4                    14.0       39657          1                3.884170   \n",
       "\n",
       "   total_orders  total_reorders  ...  department_reorder_percentage  \\\n",
       "0          1507            1221  ...                       0.658155   \n",
       "1           186             139  ...                       0.674966   \n",
       "2           413             329  ...                       0.674966   \n",
       "3           105              62  ...                       0.427166   \n",
       "4           259             208  ...                       0.581363   \n",
       "\n",
       "   department_unique_users  department  total_orders_by_user  \\\n",
       "0                    61482   beverages                     1   \n",
       "1                    87400  dairy eggs                     1   \n",
       "2                    87400  dairy eggs                     1   \n",
       "3                    21647   household                     1   \n",
       "4                    57302      snacks                     1   \n",
       "\n",
       "   total_products_by_user  total_unique_product_by_user  \\\n",
       "0                      11                            11   \n",
       "1                      11                            11   \n",
       "2                      11                            11   \n",
       "3                      11                            11   \n",
       "4                      11                            11   \n",
       "\n",
       "   total_reorders_by_user  reorder_propotion_by_user  average_order_size  \\\n",
       "0                      10                   0.909091                  11   \n",
       "1                      10                   0.909091                  11   \n",
       "2                      10                   0.909091                  11   \n",
       "3                      10                   0.909091                  11   \n",
       "4                      10                   0.909091                  11   \n",
       "\n",
       "  reorder_in_order  \n",
       "0         0.909091  \n",
       "1         0.909091  \n",
       "2         0.909091  \n",
       "3         0.909091  \n",
       "4         0.909091  \n",
       "\n",
       "[5 rows x 34 columns]"
      ]
     },
     "execution_count": 6,
     "metadata": {},
     "output_type": "execute_result"
    }
   ],
   "source": [
    "df = train_orders.merge(product_features, on = 'product_id', how = 'left')\n",
    "df = df.merge(user_features, on = 'user_id', how = 'left')\n",
    "df.head()\n"
   ]
  },
  {
   "cell_type": "code",
   "execution_count": 7,
   "metadata": {},
   "outputs": [
    {
     "data": {
      "text/plain": [
       "(1384617, 34)"
      ]
     },
     "execution_count": 7,
     "metadata": {},
     "output_type": "execute_result"
    }
   ],
   "source": [
    "df.shape"
   ]
  },
  {
   "cell_type": "code",
   "execution_count": 8,
   "metadata": {},
   "outputs": [
    {
     "data": {
      "text/plain": [
       "Index(['user_id', 'order_number', 'order_dow', 'order_hour_of_day',\n",
       "       'days_since_prior_order', 'product_id', 'reordered',\n",
       "       'mean_add_to_cart_order', 'total_orders', 'total_reorders',\n",
       "       'reorder_percentage', 'unique_users', 'order_first_time_total_cnt',\n",
       "       'aisle_mean_add_to_cart_order', 'aisle_std_add_to_cart_order',\n",
       "       'aisle_total_orders', 'aisle_total_reorders',\n",
       "       'aisle_reorder_percentage', 'aisle_unique_users', 'aisle',\n",
       "       'department_mean_add_to_cart_order', 'department_std_add_to_cart_order',\n",
       "       'department_total_orders', 'department_total_reorders',\n",
       "       'department_reorder_percentage', 'department_unique_users',\n",
       "       'department', 'total_orders_by_user', 'total_products_by_user',\n",
       "       'total_unique_product_by_user', 'total_reorders_by_user',\n",
       "       'reorder_propotion_by_user', 'average_order_size', 'reorder_in_order'],\n",
       "      dtype='object')"
      ]
     },
     "execution_count": 8,
     "metadata": {},
     "output_type": "execute_result"
    }
   ],
   "source": [
    "df.columns"
   ]
  },
  {
   "cell_type": "code",
   "execution_count": 9,
   "metadata": {},
   "outputs": [],
   "source": [
    "path = \"./data-clarify/final_data.csv\"\n",
    "\n",
    "df.to_csv(path)"
   ]
  },
  {
   "cell_type": "code",
   "execution_count": 10,
   "metadata": {},
   "outputs": [
    {
     "data": {
      "text/plain": [
       "1    828824\n",
       "0    555793\n",
       "Name: reordered, dtype: int64"
      ]
     },
     "execution_count": 10,
     "metadata": {},
     "output_type": "execute_result"
    }
   ],
   "source": [
    "df['reordered'].value_counts()"
   ]
  },
  {
   "cell_type": "markdown",
   "metadata": {},
   "source": [
    "## Create dummy variables\n",
    "Convert Day and Hour categorical variables to dummy variables."
   ]
  },
  {
   "cell_type": "code",
   "execution_count": 11,
   "metadata": {},
   "outputs": [
    {
     "data": {
      "text/html": [
       "<div>\n",
       "<style scoped>\n",
       "    .dataframe tbody tr th:only-of-type {\n",
       "        vertical-align: middle;\n",
       "    }\n",
       "\n",
       "    .dataframe tbody tr th {\n",
       "        vertical-align: top;\n",
       "    }\n",
       "\n",
       "    .dataframe thead th {\n",
       "        text-align: right;\n",
       "    }\n",
       "</style>\n",
       "<table border=\"1\" class=\"dataframe\">\n",
       "  <thead>\n",
       "    <tr style=\"text-align: right;\">\n",
       "      <th></th>\n",
       "      <th>user_id</th>\n",
       "      <th>order_number</th>\n",
       "      <th>days_since_prior_order</th>\n",
       "      <th>product_id</th>\n",
       "      <th>reordered</th>\n",
       "      <th>mean_add_to_cart_order</th>\n",
       "      <th>total_orders</th>\n",
       "      <th>total_reorders</th>\n",
       "      <th>reorder_percentage</th>\n",
       "      <th>unique_users</th>\n",
       "      <th>...</th>\n",
       "      <th>Hour_14</th>\n",
       "      <th>Hour_15</th>\n",
       "      <th>Hour_16</th>\n",
       "      <th>Hour_17</th>\n",
       "      <th>Hour_18</th>\n",
       "      <th>Hour_19</th>\n",
       "      <th>Hour_20</th>\n",
       "      <th>Hour_21</th>\n",
       "      <th>Hour_22</th>\n",
       "      <th>Hour_23</th>\n",
       "    </tr>\n",
       "  </thead>\n",
       "  <tbody>\n",
       "    <tr>\n",
       "      <th>0</th>\n",
       "      <td>1</td>\n",
       "      <td>11</td>\n",
       "      <td>14.0</td>\n",
       "      <td>196</td>\n",
       "      <td>1</td>\n",
       "      <td>3.984738</td>\n",
       "      <td>1507</td>\n",
       "      <td>1221</td>\n",
       "      <td>0.810219</td>\n",
       "      <td>1507</td>\n",
       "      <td>...</td>\n",
       "      <td>0</td>\n",
       "      <td>0</td>\n",
       "      <td>0</td>\n",
       "      <td>0</td>\n",
       "      <td>0</td>\n",
       "      <td>0</td>\n",
       "      <td>0</td>\n",
       "      <td>0</td>\n",
       "      <td>0</td>\n",
       "      <td>0</td>\n",
       "    </tr>\n",
       "    <tr>\n",
       "      <th>1</th>\n",
       "      <td>1</td>\n",
       "      <td>11</td>\n",
       "      <td>14.0</td>\n",
       "      <td>25133</td>\n",
       "      <td>1</td>\n",
       "      <td>6.580645</td>\n",
       "      <td>186</td>\n",
       "      <td>139</td>\n",
       "      <td>0.747312</td>\n",
       "      <td>186</td>\n",
       "      <td>...</td>\n",
       "      <td>0</td>\n",
       "      <td>0</td>\n",
       "      <td>0</td>\n",
       "      <td>0</td>\n",
       "      <td>0</td>\n",
       "      <td>0</td>\n",
       "      <td>0</td>\n",
       "      <td>0</td>\n",
       "      <td>0</td>\n",
       "      <td>0</td>\n",
       "    </tr>\n",
       "    <tr>\n",
       "      <th>2</th>\n",
       "      <td>1</td>\n",
       "      <td>11</td>\n",
       "      <td>14.0</td>\n",
       "      <td>38928</td>\n",
       "      <td>1</td>\n",
       "      <td>3.707022</td>\n",
       "      <td>413</td>\n",
       "      <td>329</td>\n",
       "      <td>0.796610</td>\n",
       "      <td>413</td>\n",
       "      <td>...</td>\n",
       "      <td>0</td>\n",
       "      <td>0</td>\n",
       "      <td>0</td>\n",
       "      <td>0</td>\n",
       "      <td>0</td>\n",
       "      <td>0</td>\n",
       "      <td>0</td>\n",
       "      <td>0</td>\n",
       "      <td>0</td>\n",
       "      <td>0</td>\n",
       "    </tr>\n",
       "    <tr>\n",
       "      <th>3</th>\n",
       "      <td>1</td>\n",
       "      <td>11</td>\n",
       "      <td>14.0</td>\n",
       "      <td>26405</td>\n",
       "      <td>1</td>\n",
       "      <td>2.761905</td>\n",
       "      <td>105</td>\n",
       "      <td>62</td>\n",
       "      <td>0.590476</td>\n",
       "      <td>105</td>\n",
       "      <td>...</td>\n",
       "      <td>0</td>\n",
       "      <td>0</td>\n",
       "      <td>0</td>\n",
       "      <td>0</td>\n",
       "      <td>0</td>\n",
       "      <td>0</td>\n",
       "      <td>0</td>\n",
       "      <td>0</td>\n",
       "      <td>0</td>\n",
       "      <td>0</td>\n",
       "    </tr>\n",
       "    <tr>\n",
       "      <th>4</th>\n",
       "      <td>1</td>\n",
       "      <td>11</td>\n",
       "      <td>14.0</td>\n",
       "      <td>39657</td>\n",
       "      <td>1</td>\n",
       "      <td>3.884170</td>\n",
       "      <td>259</td>\n",
       "      <td>208</td>\n",
       "      <td>0.803089</td>\n",
       "      <td>259</td>\n",
       "      <td>...</td>\n",
       "      <td>0</td>\n",
       "      <td>0</td>\n",
       "      <td>0</td>\n",
       "      <td>0</td>\n",
       "      <td>0</td>\n",
       "      <td>0</td>\n",
       "      <td>0</td>\n",
       "      <td>0</td>\n",
       "      <td>0</td>\n",
       "      <td>0</td>\n",
       "    </tr>\n",
       "  </tbody>\n",
       "</table>\n",
       "<p>5 rows × 61 columns</p>\n",
       "</div>"
      ],
      "text/plain": [
       "   user_id  order_number  days_since_prior_order  product_id  reordered  \\\n",
       "0        1            11                    14.0         196          1   \n",
       "1        1            11                    14.0       25133          1   \n",
       "2        1            11                    14.0       38928          1   \n",
       "3        1            11                    14.0       26405          1   \n",
       "4        1            11                    14.0       39657          1   \n",
       "\n",
       "   mean_add_to_cart_order  total_orders  total_reorders  reorder_percentage  \\\n",
       "0                3.984738          1507            1221            0.810219   \n",
       "1                6.580645           186             139            0.747312   \n",
       "2                3.707022           413             329            0.796610   \n",
       "3                2.761905           105              62            0.590476   \n",
       "4                3.884170           259             208            0.803089   \n",
       "\n",
       "   unique_users  ...  Hour_14  Hour_15  Hour_16  Hour_17  Hour_18  Hour_19  \\\n",
       "0          1507  ...        0        0        0        0        0        0   \n",
       "1           186  ...        0        0        0        0        0        0   \n",
       "2           413  ...        0        0        0        0        0        0   \n",
       "3           105  ...        0        0        0        0        0        0   \n",
       "4           259  ...        0        0        0        0        0        0   \n",
       "\n",
       "   Hour_20 Hour_21  Hour_22  Hour_23  \n",
       "0        0       0        0        0  \n",
       "1        0       0        0        0  \n",
       "2        0       0        0        0  \n",
       "3        0       0        0        0  \n",
       "4        0       0        0        0  \n",
       "\n",
       "[5 rows x 61 columns]"
      ]
     },
     "execution_count": 11,
     "metadata": {},
     "output_type": "execute_result"
    }
   ],
   "source": [
    "final_data = pd.get_dummies(data=df, prefix=['Day','Hour'], columns=['order_dow','order_hour_of_day'], drop_first=True)\n",
    "final_data.head()"
   ]
  },
  {
   "cell_type": "markdown",
   "metadata": {},
   "source": [
    "### Duplicate rows\n",
    " The dataset doesn't have any duplicates."
   ]
  },
  {
   "cell_type": "code",
   "execution_count": 12,
   "metadata": {},
   "outputs": [
    {
     "name": "stdout",
     "output_type": "stream",
     "text": [
      "\n",
      "\u001b[1mInference:\u001b[0m The dataset doesn't have any duplicates\n"
     ]
    }
   ],
   "source": [
    "    \n",
    "counter = 0\n",
    "r,c = final_data.shape\n",
    "\n",
    "df1 = final_data.drop_duplicates()\n",
    "df1.reset_index(drop=True,inplace=True)\n",
    "\n",
    "if df1.shape==(r,c):\n",
    "    print('\\n\\033[1mInference:\\033[0m The dataset doesn\\'t have any duplicates')\n",
    "else:\n",
    "    print(f'\\n\\033[1mInference:\\033[0m Number of duplicates dropped ---> {r-df.shape[0]}')"
   ]
  },
  {
   "cell_type": "markdown",
   "metadata": {},
   "source": [
    "## Save the new dataset for future \n",
    "save the dataset with dummy variables for future tasks."
   ]
  },
  {
   "cell_type": "code",
   "execution_count": 13,
   "metadata": {},
   "outputs": [],
   "source": [
    "!pip install --disable-pip-version-check -q PyAthena==2.1.0\n",
    "from pyathena import connect\n",
    "import sagemaker\n",
    "import boto3\n",
    "sess = sagemaker.Session()\n",
    "bucket = sess.default_bucket()\n",
    "role = sagemaker.get_execution_role()\n",
    "region = boto3.Session().region_name\n",
    "from pyathena import connect\n"
   ]
  },
  {
   "cell_type": "code",
   "execution_count": 14,
   "metadata": {},
   "outputs": [],
   "source": [
    "path = \"./data-clarify/final_data.csv\"\n",
    "final_data.to_csv(path, index=False, header=True)"
   ]
  },
  {
   "cell_type": "code",
   "execution_count": 15,
   "metadata": {},
   "outputs": [
    {
     "data": {
      "text/plain": [
       "'s3://sagemaker-us-east-1-254716743917/dummy-dataset-1650237616/final_data.csv'"
      ]
     },
     "execution_count": 15,
     "metadata": {},
     "output_type": "execute_result"
    }
   ],
   "source": [
    "import time\n",
    "\n",
    "timestamp = int(time.time())\n",
    "\n",
    "dummy_data_s3_uri = sess.upload_data(bucket=bucket, key_prefix=\"dummy-dataset-{}\".format(timestamp), path=path)\n",
    "dummy_data_s3_uri"
   ]
  },
  {
   "cell_type": "code",
   "execution_count": 16,
   "metadata": {},
   "outputs": [
    {
     "name": "stdout",
     "output_type": "stream",
     "text": [
      "2022-04-17 23:20:17  470105099 final_data.csv\n"
     ]
    }
   ],
   "source": [
    "!aws s3 ls $dummy_data_s3_uri"
   ]
  },
  {
   "cell_type": "code",
   "execution_count": 17,
   "metadata": {},
   "outputs": [
    {
     "name": "stdout",
     "output_type": "stream",
     "text": [
      "Stored 'dummy_data_s3_uri' (str)\n"
     ]
    }
   ],
   "source": [
    "%store dummy_data_s3_uri"
   ]
  },
  {
   "cell_type": "code",
   "execution_count": 18,
   "metadata": {},
   "outputs": [
    {
     "name": "stdout",
     "output_type": "stream",
     "text": [
      "Stored variables and their in-db values:\n",
      "balanced_bias_data_jsonlines_s3_uri             -> 's3://sagemaker-us-east-1-254716743917/bias-detect\n",
      "balanced_bias_data_s3_uri                       -> 's3://sagemaker-us-east-1-254716743917/bias-detect\n",
      "bias_data_s3_uri                                -> 's3://sagemaker-us-east-1-254716743917/bias-detect\n",
      "database_name                                   -> 'oneclickaws'\n",
      "dummy_data_s3_uri                               -> 's3://sagemaker-us-east-1-254716743917/dummy-datas\n",
      "ingest_create_athena_db_passed                  -> True\n",
      "s3_public_path_csv                              -> 's3://projectads508'\n"
     ]
    }
   ],
   "source": [
    "%store"
   ]
  },
  {
   "cell_type": "code",
   "execution_count": null,
   "metadata": {},
   "outputs": [],
   "source": []
  }
 ],
 "metadata": {
  "instance_type": "ml.t3.medium",
  "kernelspec": {
   "display_name": "conda_python3",
   "language": "python",
   "name": "conda_python3"
  },
  "language_info": {
   "codemirror_mode": {
    "name": "ipython",
    "version": 3
   },
   "file_extension": ".py",
   "mimetype": "text/x-python",
   "name": "python",
   "nbconvert_exporter": "python",
   "pygments_lexer": "ipython3",
   "version": "3.6.13"
  }
 },
 "nbformat": 4,
 "nbformat_minor": 4
}
